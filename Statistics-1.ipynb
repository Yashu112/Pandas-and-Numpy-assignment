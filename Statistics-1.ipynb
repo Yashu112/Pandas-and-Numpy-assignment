{
 "cells": [
  {
   "cell_type": "markdown",
   "id": "ba0607c3-cdc6-4e55-8e70-653a718fb833",
   "metadata": {},
   "source": [
    "# Statistics-1"
   ]
  },
  {
   "cell_type": "markdown",
   "id": "5721ac14-e5ce-4506-9858-9ad6280d44f7",
   "metadata": {},
   "source": []
  },
  {
   "cell_type": "markdown",
   "id": "81a8322c-4a38-4ff7-96bf-ba3885f96211",
   "metadata": {},
   "source": [
    "Q1. What is Statistics?\n",
    "\n",
    "Ans. Statistics is the science of collecting, organizing and analyzing data and drawing meaningful insights from it using various statistical methods, such as mean, median, mode, covariance, etc and by visualizing the data using different types of plots."
   ]
  },
  {
   "cell_type": "markdown",
   "id": "94e0ce55-4bb9-44b8-86a2-984fc2074433",
   "metadata": {},
   "source": []
  },
  {
   "cell_type": "markdown",
   "id": "9decfbf8-d0bb-4aa5-bc06-e013d1e8e827",
   "metadata": {},
   "source": [
    "Q2. Define the different types of statistics and give an example of when each type might be used.\n",
    "\n",
    "Ans. The different types of statistics are:\n",
    "\n",
    "- **Descriptive Statistics** - Descriptive Statistics is the statistics which deals with orgainzing and summarizing a set of data that we have. Here we find out different measures of central tendency and variability such as mean, median, mode, covariance, probability distribution, etc.\n",
    "\n",
    "    Example- Suppose we collect the height of all students in class and find the mean height, median height, etc. Then this is descriptive statistics.\n",
    "\n",
    "- **Inferential Statistics** - Inferential Statistics is the statistics in which we use the already measured data that we have to draw insights about a larger set of data. We take a sample data and using the sample data we predict about a larger population data. Here we have Z-test, t-test, and find p value and significance value, etc.\n",
    "\n",
    "    Example- Suppose there are elections in a state. After the elections we carry out exit polls, and collect sample data about voting from people of different regions and use this data to predict the overall election results. Then this is an example of inferential statistics."
   ]
  },
  {
   "cell_type": "markdown",
   "id": "05f2ff24-2baf-4732-b8e9-644651a8e7ce",
   "metadata": {},
   "source": []
  },
  {
   "cell_type": "markdown",
   "id": "57ec4c8d-eab9-405d-b5b9-406ff53fb290",
   "metadata": {},
   "source": [
    "Q3. What are the different types of data and how do they differ from each other? Provide an example of\n",
    "each type of data.\n",
    "\n",
    "Ans. Different types of data are-\n",
    "\n",
    "1. Quantitative data - Quantitative data is numerical data, it is the data which we can measure in the form of numbers. For example, marks of students, age, height, weight, temperature are quantitative data.\n",
    "    \n",
    "    It is of 2 types-\n",
    "    - Discrete \n",
    "    - Conitinuous\n",
    "\n",
    "\n",
    "2. Qualitative data - Qualitative data is categorical data. It is the kind of data which is in the form of categories. It is not in form of numbers. Here we see in which category, classification does a data element belongs. For example, grading in exams, gender, subject, degree, state, country are qualitative data.\n",
    "\n",
    "    It is also of 2 types-\n",
    "    - Nominal\n",
    "    - Ordinal\n",
    "    "
   ]
  },
  {
   "cell_type": "markdown",
   "id": "fa0b9816-1e40-4ec4-a381-ea878f69f96e",
   "metadata": {},
   "source": []
  },
  {
   "cell_type": "markdown",
   "id": "5e11f39b-fbf5-4d70-9d58-a7ab7ee704db",
   "metadata": {},
   "source": [
    "Q4. Categorise the following datasets with respect to quantitative and qualitative data types:\n",
    "\n",
    "(i) Grading in exam: A+, A, B+, B, C+, C, D, E\n",
    "\n",
    "(ii) Colour of mangoes: yellow, green, orange, red\n",
    "\n",
    "(iii) Height data of a class: [178.9, 179, 179.5, 176, 177.2, 178.3, 175.8,...]\n",
    "\n",
    "(iv) Number of mangoes exported by a farm: [500, 600, 478, 672, ...]\n",
    "\n",
    "Ans. \n",
    "1. Quantitative data are-\n",
    "    - (iii) Height data of a class: [178.9, 179, 179.5, 176, 177.2, 178.3, 175.8,...]\n",
    "    - (iv) Number of mangoes exported by a farm: [500, 600, 478, 672, ...]\n",
    "    \n",
    "2. Qualitative data are-\n",
    "    - (i) Grading in exam: A+, A, B+, B, C+, C, D, E\n",
    "    - (ii) Colour of mangoes: yellow, green, orange, red\n"
   ]
  },
  {
   "cell_type": "markdown",
   "id": "d56efd62-67c2-4bd9-b0df-3f0ceb82fc17",
   "metadata": {},
   "source": []
  },
  {
   "cell_type": "markdown",
   "id": "831bc53d-8fb1-46ac-93aa-24350d2b9a7f",
   "metadata": {},
   "source": [
    "Q5. Explain the concept of levels of measurement and give an example of a variable for each level.\n",
    "\n",
    "Ans. There are 4 levels of measurement of a variable:\n",
    "1. Nominal - Here the data is only categorical and it doesn't have any rank. We can't say a particular category is more important than other. Example - gender, colours, fruits, etc.\n",
    "2. Ordinal - Here also the data is categorical but the data has ranks. We can decide the ranks of data, we can say a particular data has more value than other. Example - grades in exams, class of a train ticket, etc.\n",
    "3. Interval - the data can be categorized, can be ranked and it can also be evenly spaced. It is numerical data. For example - marks of students, temperature in celsius, etc.\n",
    "4. Ratio - the data can be categorized, it can be ranked, it can be evenly spaced in intervals and it also has a zero point. At zero point, the value of variable is zero, it doesn't exist. Example, height and weight measurements."
   ]
  },
  {
   "cell_type": "markdown",
   "id": "1de1c45b-d6ca-4347-bbee-dfa9deb30ced",
   "metadata": {},
   "source": []
  },
  {
   "cell_type": "markdown",
   "id": "5244f39c-94a3-4bb5-b08f-ffc77479a677",
   "metadata": {},
   "source": [
    "Q6. Why is it important to understand the level of measurement when analyzing data? Provide an\n",
    "example to illustrate your answer.\n",
    "\n",
    "Ans. It is important to understand the level of measurement when analyzing data because it helps us in deciding which measures of central tendency and variability we can use and in which way we can draw out conlusion from our data. For example, at nominal level, we can only find mode, not mean or median. At the ordinal level, we can find mode as well as median, but not mean. At the interval level, we can find mode, median as well as mean.\n",
    "\n",
    "Example-\n",
    "\n",
    "Let us consider a nominal data-\n",
    "\n",
    "`color_of_balls = [red, blue, blue, blue, red, yellow, blue, green]`\n",
    "\n",
    "Here, we can only find mode, the maximum occuring value, which is blue.\n",
    "\n",
    "Let us consider ordinal data-\n",
    "\n",
    "`grade = [C,D,D,B,B,B,B+,A,A+]`\n",
    "\n",
    "Here median will me B and mode is also B\n",
    "\n",
    "Let us consider interval data-\n",
    "\n",
    "`marks = [85,89,90,91,92,92,92,92,92,94,98]`\n",
    "\n",
    "Here, mode = 92, median = 92 and mean = 91.55"
   ]
  },
  {
   "cell_type": "markdown",
   "id": "336685ab-d611-44df-87ba-91da3082b4e8",
   "metadata": {},
   "source": []
  },
  {
   "cell_type": "markdown",
   "id": "55536a72-e515-4b0d-ba0a-b88b9439a4c0",
   "metadata": {},
   "source": [
    "Q7. How nominal data type is different from ordinal data type.\n",
    "\n",
    "Ans. Both nominal and ordinal data are types of qualitative data. \n",
    "- Nominal data is that qualitative data which doesn't have any particular ranking, there is no classification between higher or lower category. For example, gender, state, country, colour are nominal data as we can't say a particular country has higher status than other.\n",
    "- Ordinal data is that qualitative data which has any particular ranking, different categories have different status, there is classification between higher or lower category. For example, grading in exam, class of ticket, post in a company are ordinal data."
   ]
  },
  {
   "cell_type": "markdown",
   "id": "8f4e8bef-abe2-426b-94f2-4a3f582027eb",
   "metadata": {},
   "source": []
  },
  {
   "cell_type": "markdown",
   "id": "cfe7b3f6-35ea-41aa-aeb4-dc9020c7b995",
   "metadata": {},
   "source": [
    "Q8. Which type of plot can be used to display data in terms of range?\n",
    "\n",
    "Ans A bloxplot can be used to display data in terms of range.\n",
    " \n",
    "Example:"
   ]
  },
  {
   "cell_type": "code",
   "execution_count": 2,
   "id": "91a20450-bbf4-45ad-bb4f-b41739d1898d",
   "metadata": {},
   "outputs": [
    {
     "data": {
      "text/plain": [
       "<AxesSubplot: >"
      ]
     },
     "execution_count": 2,
     "metadata": {},
     "output_type": "execute_result"
    },
    {
     "data": {
      "image/png": "[encoded data removed]",
      "text/plain": [
       "<Figure size 640x480 with 1 Axes>"
      ]
     },
     "metadata": {},
     "output_type": "display_data"
    }
   ],
   "source": [
    "import numpy as np\n",
    "import seaborn as sns\n",
    "data = np.random.randint(0,50,101)\n",
    "sns.boxplot(data)"
   ]
  },
  {
   "cell_type": "markdown",
   "id": "dd312086-9682-4333-acd6-4a782a2580b9",
   "metadata": {},
   "source": []
  },
  {
   "cell_type": "markdown",
   "id": "362c45a7-acd8-46ab-ba3a-b3c4c96bf919",
   "metadata": {},
   "source": [
    "Q9. Describe the difference between descriptive and inferential statistics. Give an example of each\n",
    "type of statistics and explain how they are used.\n",
    "\n",
    "Ans. Difference between descriptive and inferential statistics -\n",
    "- **Descriptive Statistics** - Descriptive Statistics is the statistics which deals with orgainzing and summarizing a set of data that we have. Here we find out different measures of central tendency and variability such as mean, median, mode, covariance, probability distribution, etc.\n",
    "\n",
    "    Example- Suppose we collect the height of all students in class and find the mean height, median height, etc. Then this is descriptive statistics.\n",
    "\n",
    "- **Inferential Statistics** - Inferential Statistics is the statistics in which we use the already measured data that we have to draw insights about a larger set of data. We take a sample data and using the sample data we predict about a larger population data. Here we have Z-test, t-test, and find p value and significance value, etc.\n",
    "\n",
    "    Example- Suppose there are elections in a state. After the elections we carry out exit polls, and collect sample data about voting from people of different regions and use this data to predict the overall election results. Then this is an example of inferential statistics."
   ]
  },
  {
   "cell_type": "markdown",
   "id": "2b031f7e-b535-47fd-98c7-a9aac5093080",
   "metadata": {},
   "source": []
  },
  {
   "cell_type": "markdown",
   "id": "6e7f893b-70db-4aa2-8ce5-6d5267ae5503",
   "metadata": {},
   "source": [
    "Q10. What are some common measures of central tendency and variability used in statistics? Explain\n",
    "how each measure can be used to describe a dataset.\n",
    "\n",
    "Ans.\n",
    "1. Measures of central tendency -  \n",
    "    - Mean/average - It is found by dividing the sum of all data points by total number of data points. It is the average of data.\n",
    "    Population mean\n",
    "    >$$\\mu = \\frac { \\sum\\limits_{i=1}^N x_i }{N} $$\n",
    "    \n",
    "        Sample mean\n",
    "        >$$\\bar{x} = \\frac { \\sum\\limits_{i=1}^N x_i }{N} $$\n",
    "    - Median - It denotes the central value. We have two cases - \n",
    "        - When total number of data points, **N** is odd, the data points are first sorted in ascending order, the data point at **(N+1)/2**<sup>th</sup> position is the median.\n",
    "        - When total number of data points **N**, is even, the data points are first sorted in ascending order, then the median is calculated by taking the average of data points at **N/2**<sup>th</sup> and **N/2 + 1**<sup>th</sup> position.\n",
    "    - Mode- It is the data point which occurs maximum number of times in our data. The data point with maximum frequency of occurence is our mode.\n",
    "    \n",
    "2. Measures of Variability -\n",
    "    - Range - it can simply be found by taking the difference of maximum data point and minimum datta point. \n",
    "    >$Range = x_{max} - x_{min}$\n",
    "    - Variance - it is found by dividing the squares of differences of data points and mean by the total number of data points\n",
    "    >Population Variance - $$\\sigma^2 = \\frac { \\sum\\limits_{i=1}^N \\left( x_i - \\mu \\right)^2 }{N} $$    \n",
    "    >Sample Variance - $$S^2 = \\frac { \\sum\\limits_{i=1}^N \\left( x_i - \\bar{x} \\right)^2 }{N-1} $$\n",
    "    - Standard Deviation - it is the square root of variance. It is denoted by $\\sigma$\n",
    "    \n",
    "    "
   ]
  },
  {
   "cell_type": "raw",
   "id": "67eff868-a01d-4e01-8649-4314c1363434",
   "metadata": {},
   "source": []
  }
 ],
 "metadata": {
  "kernelspec": {
   "display_name": "Python 3 (ipykernel)",
   "language": "python",
   "name": "python3"
  },
  "language_info": {
   "codemirror_mode": {
    "name": "ipython",
    "version": 3
   },
   "file_extension": ".py",
   "mimetype": "text/x-python",
   "name": "python",
   "nbconvert_exporter": "python",
   "pygments_lexer": "ipython3",
   "version": "3.10.8"
  }
 },
 "nbformat": 4,
 "nbformat_minor": 5
}
