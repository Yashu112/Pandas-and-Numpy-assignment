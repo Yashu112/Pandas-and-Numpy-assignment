{
 "cells": [
  {
   "cell_type": "markdown",
   "id": "c1a4b070-6aca-495e-b127-7f6d9ebb05d2",
   "metadata": {},
   "source": [
    "# Pandas Basic"
   ]
  },
  {
   "cell_type": "code",
   "execution_count": 2,
   "id": "8b553dbc-eacd-43c2-9433-aba158f9017a",
   "metadata": {},
   "outputs": [],
   "source": [
    "import pandas as pd"
   ]
  },
  {
   "cell_type": "markdown",
   "id": "b2cffd5d-e805-4c53-a7ac-e545b388215b",
   "metadata": {},
   "source": []
  },
  {
   "cell_type": "markdown",
   "id": "cf40da1a-6b6d-48b6-b215-6b3309022c05",
   "metadata": {},
   "source": [
    "Q1. Create a Pandas Series that contains the following data: 4, 8, 15, 16, 23, and 42. Then, print the series."
   ]
  },
  {
   "cell_type": "code",
   "execution_count": 3,
   "id": "df5f5543-f1ba-4d83-96ad-866eb1b17f99",
   "metadata": {},
   "outputs": [
    {
     "name": "stdout",
     "output_type": "stream",
     "text": [
      "The series is as follows :\n"
     ]
    },
    {
     "data": {
      "text/plain": [
       "0     4\n",
       "1     8\n",
       "2    15\n",
       "3    16\n",
       "4    23\n",
       "5    42\n",
       "dtype: int64"
      ]
     },
     "execution_count": 3,
     "metadata": {},
     "output_type": "execute_result"
    }
   ],
   "source": [
    "#Solution-1\n",
    "num = [4,8,15,16,23,42]\n",
    "num_series = pd.Series(num)\n",
    "print('The series is as follows :')\n",
    "num_series"
   ]
  },
  {
   "cell_type": "markdown",
   "id": "e57ab0ea-5c33-4d56-bdff-d84b0193b717",
   "metadata": {},
   "source": []
  },
  {
   "cell_type": "markdown",
   "id": "c60fa4fa-ff55-4dbc-bb35-cb3093aecfac",
   "metadata": {},
   "source": [
    "Q2. Create a variable of list type containing 10 elements in it, and apply pandas.Series function on the\n",
    "variable print it."
   ]
  },
  {
   "cell_type": "code",
   "execution_count": 15,
   "id": "bc92f423-43ca-488c-8d19-4a3cc777295f",
   "metadata": {},
   "outputs": [
    {
     "name": "stdout",
     "output_type": "stream",
     "text": [
      "The series is as follows :\n"
     ]
    },
    {
     "data": {
      "text/plain": [
       "0     0\n",
       "1     5\n",
       "2    10\n",
       "3    15\n",
       "4    20\n",
       "5    25\n",
       "6    30\n",
       "7    35\n",
       "8    40\n",
       "9    45\n",
       "dtype: int64"
      ]
     },
     "execution_count": 15,
     "metadata": {},
     "output_type": "execute_result"
    }
   ],
   "source": [
    "#Solution-2\n",
    "list_var = [5*i for i in range(10)]\n",
    "list_to_series = pd.Series(list_var)\n",
    "print('The series is as follows :')\n",
    "list_to_series"
   ]
  },
  {
   "cell_type": "markdown",
   "id": "ef44a10d-b0d4-4f82-b35f-1a5dd66cd816",
   "metadata": {},
   "source": []
  },
  {
   "attachments": {
    "45cdc150-5c04-4e7d-a82f-c34fe24aad81.png": {
     "image/png": "[encoded data removed]"
    }
   },
   "cell_type": "markdown",
   "id": "746ff807-fc73-41f6-881c-e87323e6f27b",
   "metadata": {},
   "source": [
    "Q3. Create a Pandas DataFrame that contains the following data:\n",
    "\n",
    "![image.png](attachment:45cdc150-5c04-4e7d-a82f-c34fe24aad81.png)\n",
    "\n",
    "Then, print the DataFrame."
   ]
  },
  {
   "cell_type": "code",
   "execution_count": 19,
   "id": "d72d3f13-2c11-48e4-9aed-854322e9e79a",
   "metadata": {},
   "outputs": [
    {
     "name": "stdout",
     "output_type": "stream",
     "text": [
      "The DataFrame is as follows :\n"
     ]
    },
    {
     "data": {
      "text/html": [
       "<div>\n",
       "<style scoped>\n",
       "    .dataframe tbody tr th:only-of-type {\n",
       "        vertical-align: middle;\n",
       "    }\n",
       "\n",
       "    .dataframe tbody tr th {\n",
       "        vertical-align: top;\n",
       "    }\n",
       "\n",
       "    .dataframe thead th {\n",
       "        text-align: right;\n",
       "    }\n",
       "</style>\n",
       "<table border=\"1\" class=\"dataframe\">\n",
       "  <thead>\n",
       "    <tr style=\"text-align: right;\">\n",
       "      <th></th>\n",
       "      <th>Name</th>\n",
       "      <th>Age</th>\n",
       "      <th>Gender</th>\n",
       "    </tr>\n",
       "  </thead>\n",
       "  <tbody>\n",
       "    <tr>\n",
       "      <th>0</th>\n",
       "      <td>Alice</td>\n",
       "      <td>25</td>\n",
       "      <td>Female</td>\n",
       "    </tr>\n",
       "    <tr>\n",
       "      <th>1</th>\n",
       "      <td>Bob</td>\n",
       "      <td>30</td>\n",
       "      <td>Male</td>\n",
       "    </tr>\n",
       "    <tr>\n",
       "      <th>2</th>\n",
       "      <td>Claire</td>\n",
       "      <td>27</td>\n",
       "      <td>Female</td>\n",
       "    </tr>\n",
       "  </tbody>\n",
       "</table>\n",
       "</div>"
      ],
      "text/plain": [
       "     Name  Age  Gender\n",
       "0   Alice   25  Female\n",
       "1     Bob   30    Male\n",
       "2  Claire   27  Female"
      ]
     },
     "execution_count": 19,
     "metadata": {},
     "output_type": "execute_result"
    }
   ],
   "source": [
    "#Solution-3\n",
    "table = {'Name':['Alice','Bob','Claire'], 'Age':[25,30,27], 'Gender':['Female','Male','Female']}\n",
    "df_1 = pd.DataFrame(table)\n",
    "print('The DataFrame is as follows :')\n",
    "df_1"
   ]
  },
  {
   "cell_type": "markdown",
   "id": "7960dda7-93f4-4ffd-9bfd-1c5efda5d876",
   "metadata": {},
   "source": []
  },
  {
   "cell_type": "markdown",
   "id": "a10a0390-1846-4d22-a712-2dadcf35cc83",
   "metadata": {},
   "source": [
    "Q4. What is ‘DataFrame’ in pandas and how is it different from pandas.series? Explain with an example.\n",
    "\n",
    "Ans. A pandas DataFrame is structured data in the form of a table. It has row and columns. It is data in 2-dimensional format, it has heterogenous data. A DataFrame is size-mutable and value-mutable. \n",
    "\n",
    "A series is like a list. It has homogenous data in 1-dimensional format. It is size-immutable but value mutable."
   ]
  },
  {
   "cell_type": "code",
   "execution_count": 17,
   "id": "bf6eac07-b1bc-4b25-99e4-998327503858",
   "metadata": {},
   "outputs": [
    {
     "name": "stdout",
     "output_type": "stream",
     "text": [
      "Example of series :\n"
     ]
    },
    {
     "data": {
      "text/plain": [
       "0     0\n",
       "1     5\n",
       "2    10\n",
       "3    15\n",
       "4    20\n",
       "5    25\n",
       "6    30\n",
       "7    35\n",
       "8    40\n",
       "9    45\n",
       "dtype: int64"
      ]
     },
     "execution_count": 17,
     "metadata": {},
     "output_type": "execute_result"
    }
   ],
   "source": [
    "#Solution-4\n",
    "print('Example of series :')\n",
    "list_to_series\n"
   ]
  },
  {
   "cell_type": "code",
   "execution_count": 20,
   "id": "84c4a64c-b1e4-4f75-943e-1997c184c893",
   "metadata": {},
   "outputs": [
    {
     "name": "stdout",
     "output_type": "stream",
     "text": [
      "\n",
      "Example of DataFrame :\n"
     ]
    },
    {
     "data": {
      "text/html": [
       "<div>\n",
       "<style scoped>\n",
       "    .dataframe tbody tr th:only-of-type {\n",
       "        vertical-align: middle;\n",
       "    }\n",
       "\n",
       "    .dataframe tbody tr th {\n",
       "        vertical-align: top;\n",
       "    }\n",
       "\n",
       "    .dataframe thead th {\n",
       "        text-align: right;\n",
       "    }\n",
       "</style>\n",
       "<table border=\"1\" class=\"dataframe\">\n",
       "  <thead>\n",
       "    <tr style=\"text-align: right;\">\n",
       "      <th></th>\n",
       "      <th>Name</th>\n",
       "      <th>Age</th>\n",
       "      <th>Gender</th>\n",
       "    </tr>\n",
       "  </thead>\n",
       "  <tbody>\n",
       "    <tr>\n",
       "      <th>0</th>\n",
       "      <td>Alice</td>\n",
       "      <td>25</td>\n",
       "      <td>Female</td>\n",
       "    </tr>\n",
       "    <tr>\n",
       "      <th>1</th>\n",
       "      <td>Bob</td>\n",
       "      <td>30</td>\n",
       "      <td>Male</td>\n",
       "    </tr>\n",
       "    <tr>\n",
       "      <th>2</th>\n",
       "      <td>Claire</td>\n",
       "      <td>27</td>\n",
       "      <td>Female</td>\n",
       "    </tr>\n",
       "  </tbody>\n",
       "</table>\n",
       "</div>"
      ],
      "text/plain": [
       "     Name  Age  Gender\n",
       "0   Alice   25  Female\n",
       "1     Bob   30    Male\n",
       "2  Claire   27  Female"
      ]
     },
     "execution_count": 20,
     "metadata": {},
     "output_type": "execute_result"
    }
   ],
   "source": [
    "print('\\nExample of DataFrame :')\n",
    "df_1"
   ]
  },
  {
   "cell_type": "markdown",
   "id": "e0f727f8-d9f3-45d3-8b12-6def319cb5b7",
   "metadata": {},
   "source": []
  },
  {
   "cell_type": "markdown",
   "id": "0251fdb0-e1b2-4af0-adb6-c7da07080b57",
   "metadata": {},
   "source": [
    "Q5. What are some common functions you can use to manipulate data in a Pandas DataFrame? Can\n",
    "you give an example of when you might use one of these functions?\n",
    "\n",
    "Ans. 3 Common functions to manipulate data are:\n",
    "\n",
    "- sort_values() - this can be use to sort the values in ascending or descending order. For example, we can sort a table of marks of students\n",
    "\n",
    "- drop() - the drop() method can be used to drop or delete any row or column in our DataFrame. The axis parameter is used to define whether we are deleting a row or column. axis=0 for rows (default) and axis=1 for columns. \n",
    "\n",
    "- apply() - the apply function can be used to create a new column by applying any given function to a column already presentin the dataframe."
   ]
  },
  {
   "cell_type": "markdown",
   "id": "73f76e34-d9cb-43a9-aaeb-caf121bcc298",
   "metadata": {},
   "source": [
    "Example of sort_values()"
   ]
  },
  {
   "cell_type": "code",
   "execution_count": 21,
   "id": "32dace09-f535-49a2-ae7c-cd2ff80d55ce",
   "metadata": {},
   "outputs": [
    {
     "name": "stdout",
     "output_type": "stream",
     "text": [
      "Unsorted DataFrame:\n"
     ]
    },
    {
     "data": {
      "text/html": [
       "<div>\n",
       "<style scoped>\n",
       "    .dataframe tbody tr th:only-of-type {\n",
       "        vertical-align: middle;\n",
       "    }\n",
       "\n",
       "    .dataframe tbody tr th {\n",
       "        vertical-align: top;\n",
       "    }\n",
       "\n",
       "    .dataframe thead th {\n",
       "        text-align: right;\n",
       "    }\n",
       "</style>\n",
       "<table border=\"1\" class=\"dataframe\">\n",
       "  <thead>\n",
       "    <tr style=\"text-align: right;\">\n",
       "      <th></th>\n",
       "      <th>Name</th>\n",
       "      <th>Marks</th>\n",
       "    </tr>\n",
       "  </thead>\n",
       "  <tbody>\n",
       "    <tr>\n",
       "      <th>0</th>\n",
       "      <td>Alice</td>\n",
       "      <td>95</td>\n",
       "    </tr>\n",
       "    <tr>\n",
       "      <th>1</th>\n",
       "      <td>Bob</td>\n",
       "      <td>97</td>\n",
       "    </tr>\n",
       "    <tr>\n",
       "      <th>2</th>\n",
       "      <td>Claire</td>\n",
       "      <td>84</td>\n",
       "    </tr>\n",
       "    <tr>\n",
       "      <th>3</th>\n",
       "      <td>Dean</td>\n",
       "      <td>85</td>\n",
       "    </tr>\n",
       "    <tr>\n",
       "      <th>4</th>\n",
       "      <td>Ethan</td>\n",
       "      <td>97</td>\n",
       "    </tr>\n",
       "    <tr>\n",
       "      <th>5</th>\n",
       "      <td>Fowler</td>\n",
       "      <td>99</td>\n",
       "    </tr>\n",
       "    <tr>\n",
       "      <th>6</th>\n",
       "      <td>Gloria</td>\n",
       "      <td>96</td>\n",
       "    </tr>\n",
       "  </tbody>\n",
       "</table>\n",
       "</div>"
      ],
      "text/plain": [
       "     Name  Marks\n",
       "0   Alice     95\n",
       "1     Bob     97\n",
       "2  Claire     84\n",
       "3    Dean     85\n",
       "4   Ethan     97\n",
       "5  Fowler     99\n",
       "6  Gloria     96"
      ]
     },
     "execution_count": 21,
     "metadata": {},
     "output_type": "execute_result"
    }
   ],
   "source": [
    "\n",
    "marks = {'Name':['Alice','Bob','Claire','Dean','Ethan','Fowler','Gloria'], 'Marks':[95,97,84,85,97,99,96]}\n",
    "df_marks = pd.DataFrame(marks)\n",
    "print('Unsorted DataFrame:')\n",
    "df_marks\n"
   ]
  },
  {
   "cell_type": "code",
   "execution_count": 12,
   "id": "7f116a43-729f-48ea-add5-0313d72378bd",
   "metadata": {},
   "outputs": [
    {
     "name": "stdout",
     "output_type": "stream",
     "text": [
      "\n",
      "Sorted DataFrame in descending:\n"
     ]
    },
    {
     "data": {
      "text/html": [
       "<div>\n",
       "<style scoped>\n",
       "    .dataframe tbody tr th:only-of-type {\n",
       "        vertical-align: middle;\n",
       "    }\n",
       "\n",
       "    .dataframe tbody tr th {\n",
       "        vertical-align: top;\n",
       "    }\n",
       "\n",
       "    .dataframe thead th {\n",
       "        text-align: right;\n",
       "    }\n",
       "</style>\n",
       "<table border=\"1\" class=\"dataframe\">\n",
       "  <thead>\n",
       "    <tr style=\"text-align: right;\">\n",
       "      <th></th>\n",
       "      <th>Name</th>\n",
       "      <th>Marks</th>\n",
       "    </tr>\n",
       "  </thead>\n",
       "  <tbody>\n",
       "    <tr>\n",
       "      <th>5</th>\n",
       "      <td>Fowler</td>\n",
       "      <td>99</td>\n",
       "    </tr>\n",
       "    <tr>\n",
       "      <th>1</th>\n",
       "      <td>Bob</td>\n",
       "      <td>97</td>\n",
       "    </tr>\n",
       "    <tr>\n",
       "      <th>4</th>\n",
       "      <td>Ethan</td>\n",
       "      <td>97</td>\n",
       "    </tr>\n",
       "    <tr>\n",
       "      <th>6</th>\n",
       "      <td>Gloria</td>\n",
       "      <td>96</td>\n",
       "    </tr>\n",
       "    <tr>\n",
       "      <th>0</th>\n",
       "      <td>Alice</td>\n",
       "      <td>95</td>\n",
       "    </tr>\n",
       "    <tr>\n",
       "      <th>3</th>\n",
       "      <td>Dean</td>\n",
       "      <td>85</td>\n",
       "    </tr>\n",
       "    <tr>\n",
       "      <th>2</th>\n",
       "      <td>Claire</td>\n",
       "      <td>84</td>\n",
       "    </tr>\n",
       "  </tbody>\n",
       "</table>\n",
       "</div>"
      ],
      "text/plain": [
       "     Name  Marks\n",
       "5  Fowler     99\n",
       "1     Bob     97\n",
       "4   Ethan     97\n",
       "6  Gloria     96\n",
       "0   Alice     95\n",
       "3    Dean     85\n",
       "2  Claire     84"
      ]
     },
     "execution_count": 12,
     "metadata": {},
     "output_type": "execute_result"
    }
   ],
   "source": [
    "print('\\nSorted DataFrame in descending:')\n",
    "df_marks.sort_values(by='Marks', ascending=False)"
   ]
  },
  {
   "cell_type": "markdown",
   "id": "04dd7e48-aaa8-46f3-bca6-341dbe436830",
   "metadata": {},
   "source": [
    "Example of drop():"
   ]
  },
  {
   "cell_type": "code",
   "execution_count": 24,
   "id": "8bc4349c-aec8-4905-8830-8e615caf21cf",
   "metadata": {},
   "outputs": [
    {
     "name": "stdout",
     "output_type": "stream",
     "text": [
      "Original Dataframe:\n"
     ]
    },
    {
     "data": {
      "text/html": [
       "<div>\n",
       "<style scoped>\n",
       "    .dataframe tbody tr th:only-of-type {\n",
       "        vertical-align: middle;\n",
       "    }\n",
       "\n",
       "    .dataframe tbody tr th {\n",
       "        vertical-align: top;\n",
       "    }\n",
       "\n",
       "    .dataframe thead th {\n",
       "        text-align: right;\n",
       "    }\n",
       "</style>\n",
       "<table border=\"1\" class=\"dataframe\">\n",
       "  <thead>\n",
       "    <tr style=\"text-align: right;\">\n",
       "      <th></th>\n",
       "      <th>key_1</th>\n",
       "      <th>key_2</th>\n",
       "      <th>key_3</th>\n",
       "    </tr>\n",
       "  </thead>\n",
       "  <tbody>\n",
       "    <tr>\n",
       "      <th>0</th>\n",
       "      <td>3</td>\n",
       "      <td>2</td>\n",
       "      <td>2</td>\n",
       "    </tr>\n",
       "    <tr>\n",
       "      <th>1</th>\n",
       "      <td>4</td>\n",
       "      <td>3</td>\n",
       "      <td>23</td>\n",
       "    </tr>\n",
       "    <tr>\n",
       "      <th>2</th>\n",
       "      <td>5</td>\n",
       "      <td>4</td>\n",
       "      <td>4</td>\n",
       "    </tr>\n",
       "    <tr>\n",
       "      <th>3</th>\n",
       "      <td>6</td>\n",
       "      <td>7</td>\n",
       "      <td>5</td>\n",
       "    </tr>\n",
       "    <tr>\n",
       "      <th>4</th>\n",
       "      <td>9</td>\n",
       "      <td>8</td>\n",
       "      <td>6</td>\n",
       "    </tr>\n",
       "  </tbody>\n",
       "</table>\n",
       "</div>"
      ],
      "text/plain": [
       "   key_1  key_2  key_3\n",
       "0      3      2      2\n",
       "1      4      3     23\n",
       "2      5      4      4\n",
       "3      6      7      5\n",
       "4      9      8      6"
      ]
     },
     "execution_count": 24,
     "metadata": {},
     "output_type": "execute_result"
    }
   ],
   "source": [
    "d1 = {'key_1' :[3,4,5,6,9],\n",
    "     'key_2' : [2,3,4,7,8],\n",
    "     'key_3' : [2,23,4,5,6,]     \n",
    "}\n",
    "df_2 = pd.DataFrame(d1)\n",
    "print('Original Dataframe:')\n",
    "df_2"
   ]
  },
  {
   "cell_type": "code",
   "execution_count": 28,
   "id": "9d579e57-4b4a-4f19-9292-2b1de84a8c64",
   "metadata": {},
   "outputs": [
    {
     "name": "stdout",
     "output_type": "stream",
     "text": [
      "DataFrame with Column key_1 dropped:\n"
     ]
    },
    {
     "data": {
      "text/html": [
       "<div>\n",
       "<style scoped>\n",
       "    .dataframe tbody tr th:only-of-type {\n",
       "        vertical-align: middle;\n",
       "    }\n",
       "\n",
       "    .dataframe tbody tr th {\n",
       "        vertical-align: top;\n",
       "    }\n",
       "\n",
       "    .dataframe thead th {\n",
       "        text-align: right;\n",
       "    }\n",
       "</style>\n",
       "<table border=\"1\" class=\"dataframe\">\n",
       "  <thead>\n",
       "    <tr style=\"text-align: right;\">\n",
       "      <th></th>\n",
       "      <th>key_2</th>\n",
       "      <th>key_3</th>\n",
       "    </tr>\n",
       "  </thead>\n",
       "  <tbody>\n",
       "    <tr>\n",
       "      <th>0</th>\n",
       "      <td>2</td>\n",
       "      <td>2</td>\n",
       "    </tr>\n",
       "    <tr>\n",
       "      <th>1</th>\n",
       "      <td>3</td>\n",
       "      <td>23</td>\n",
       "    </tr>\n",
       "    <tr>\n",
       "      <th>2</th>\n",
       "      <td>4</td>\n",
       "      <td>4</td>\n",
       "    </tr>\n",
       "    <tr>\n",
       "      <th>3</th>\n",
       "      <td>7</td>\n",
       "      <td>5</td>\n",
       "    </tr>\n",
       "    <tr>\n",
       "      <th>4</th>\n",
       "      <td>8</td>\n",
       "      <td>6</td>\n",
       "    </tr>\n",
       "  </tbody>\n",
       "</table>\n",
       "</div>"
      ],
      "text/plain": [
       "   key_2  key_3\n",
       "0      2      2\n",
       "1      3     23\n",
       "2      4      4\n",
       "3      7      5\n",
       "4      8      6"
      ]
     },
     "execution_count": 28,
     "metadata": {},
     "output_type": "execute_result"
    }
   ],
   "source": [
    "print('DataFrame with Column key_1 dropped:')\n",
    "df_2.drop('key_1',axis=1)"
   ]
  },
  {
   "cell_type": "code",
   "execution_count": 32,
   "id": "e6d835cd-012f-4041-adba-d9fc2491a9f5",
   "metadata": {},
   "outputs": [
    {
     "name": "stdout",
     "output_type": "stream",
     "text": [
      "DataFrame with rows 2,3 dropped:\n"
     ]
    },
    {
     "data": {
      "text/html": [
       "<div>\n",
       "<style scoped>\n",
       "    .dataframe tbody tr th:only-of-type {\n",
       "        vertical-align: middle;\n",
       "    }\n",
       "\n",
       "    .dataframe tbody tr th {\n",
       "        vertical-align: top;\n",
       "    }\n",
       "\n",
       "    .dataframe thead th {\n",
       "        text-align: right;\n",
       "    }\n",
       "</style>\n",
       "<table border=\"1\" class=\"dataframe\">\n",
       "  <thead>\n",
       "    <tr style=\"text-align: right;\">\n",
       "      <th></th>\n",
       "      <th>key_1</th>\n",
       "      <th>key_2</th>\n",
       "      <th>key_3</th>\n",
       "    </tr>\n",
       "  </thead>\n",
       "  <tbody>\n",
       "    <tr>\n",
       "      <th>0</th>\n",
       "      <td>3</td>\n",
       "      <td>2</td>\n",
       "      <td>2</td>\n",
       "    </tr>\n",
       "    <tr>\n",
       "      <th>1</th>\n",
       "      <td>4</td>\n",
       "      <td>3</td>\n",
       "      <td>23</td>\n",
       "    </tr>\n",
       "    <tr>\n",
       "      <th>4</th>\n",
       "      <td>9</td>\n",
       "      <td>8</td>\n",
       "      <td>6</td>\n",
       "    </tr>\n",
       "  </tbody>\n",
       "</table>\n",
       "</div>"
      ],
      "text/plain": [
       "   key_1  key_2  key_3\n",
       "0      3      2      2\n",
       "1      4      3     23\n",
       "4      9      8      6"
      ]
     },
     "execution_count": 32,
     "metadata": {},
     "output_type": "execute_result"
    }
   ],
   "source": [
    "print('DataFrame with rows 2,3 dropped:')\n",
    "df_2.drop([2,3])"
   ]
  },
  {
   "cell_type": "markdown",
   "id": "af53f3dd-c754-4432-87e3-76255d869ab2",
   "metadata": {},
   "source": [
    "Example of apply()"
   ]
  },
  {
   "cell_type": "code",
   "execution_count": 38,
   "id": "a304eef0-d0ed-40a3-8450-b9b0f6710efb",
   "metadata": {},
   "outputs": [
    {
     "name": "stdout",
     "output_type": "stream",
     "text": [
      "Initial DataFrame\n"
     ]
    },
    {
     "data": {
      "text/html": [
       "<div>\n",
       "<style scoped>\n",
       "    .dataframe tbody tr th:only-of-type {\n",
       "        vertical-align: middle;\n",
       "    }\n",
       "\n",
       "    .dataframe tbody tr th {\n",
       "        vertical-align: top;\n",
       "    }\n",
       "\n",
       "    .dataframe thead th {\n",
       "        text-align: right;\n",
       "    }\n",
       "</style>\n",
       "<table border=\"1\" class=\"dataframe\">\n",
       "  <thead>\n",
       "    <tr style=\"text-align: right;\">\n",
       "      <th></th>\n",
       "      <th>Name</th>\n",
       "      <th>Marks</th>\n",
       "      <th>Grade</th>\n",
       "    </tr>\n",
       "  </thead>\n",
       "  <tbody>\n",
       "    <tr>\n",
       "      <th>0</th>\n",
       "      <td>Alice</td>\n",
       "      <td>95</td>\n",
       "      <td>A</td>\n",
       "    </tr>\n",
       "    <tr>\n",
       "      <th>1</th>\n",
       "      <td>Bob</td>\n",
       "      <td>97</td>\n",
       "      <td>A</td>\n",
       "    </tr>\n",
       "    <tr>\n",
       "      <th>2</th>\n",
       "      <td>Claire</td>\n",
       "      <td>84</td>\n",
       "      <td>B</td>\n",
       "    </tr>\n",
       "    <tr>\n",
       "      <th>3</th>\n",
       "      <td>Dean</td>\n",
       "      <td>85</td>\n",
       "      <td>B</td>\n",
       "    </tr>\n",
       "    <tr>\n",
       "      <th>4</th>\n",
       "      <td>Ethan</td>\n",
       "      <td>97</td>\n",
       "      <td>A</td>\n",
       "    </tr>\n",
       "    <tr>\n",
       "      <th>5</th>\n",
       "      <td>Fowler</td>\n",
       "      <td>99</td>\n",
       "      <td>A</td>\n",
       "    </tr>\n",
       "    <tr>\n",
       "      <th>6</th>\n",
       "      <td>Gloria</td>\n",
       "      <td>96</td>\n",
       "      <td>A</td>\n",
       "    </tr>\n",
       "  </tbody>\n",
       "</table>\n",
       "</div>"
      ],
      "text/plain": [
       "     Name  Marks Grade\n",
       "0   Alice     95     A\n",
       "1     Bob     97     A\n",
       "2  Claire     84     B\n",
       "3    Dean     85     B\n",
       "4   Ethan     97     A\n",
       "5  Fowler     99     A\n",
       "6  Gloria     96     A"
      ]
     },
     "execution_count": 38,
     "metadata": {},
     "output_type": "execute_result"
    }
   ],
   "source": [
    "print('Initial DataFrame')\n",
    "df_marks"
   ]
  },
  {
   "cell_type": "code",
   "execution_count": 37,
   "id": "e7455cd2-4d08-4c20-a314-98c37fecc6eb",
   "metadata": {},
   "outputs": [
    {
     "name": "stdout",
     "output_type": "stream",
     "text": [
      "Newly added column with the help of apply funciton:\n"
     ]
    },
    {
     "data": {
      "text/html": [
       "<div>\n",
       "<style scoped>\n",
       "    .dataframe tbody tr th:only-of-type {\n",
       "        vertical-align: middle;\n",
       "    }\n",
       "\n",
       "    .dataframe tbody tr th {\n",
       "        vertical-align: top;\n",
       "    }\n",
       "\n",
       "    .dataframe thead th {\n",
       "        text-align: right;\n",
       "    }\n",
       "</style>\n",
       "<table border=\"1\" class=\"dataframe\">\n",
       "  <thead>\n",
       "    <tr style=\"text-align: right;\">\n",
       "      <th></th>\n",
       "      <th>Name</th>\n",
       "      <th>Marks</th>\n",
       "      <th>Grade</th>\n",
       "    </tr>\n",
       "  </thead>\n",
       "  <tbody>\n",
       "    <tr>\n",
       "      <th>0</th>\n",
       "      <td>Alice</td>\n",
       "      <td>95</td>\n",
       "      <td>A</td>\n",
       "    </tr>\n",
       "    <tr>\n",
       "      <th>1</th>\n",
       "      <td>Bob</td>\n",
       "      <td>97</td>\n",
       "      <td>A</td>\n",
       "    </tr>\n",
       "    <tr>\n",
       "      <th>2</th>\n",
       "      <td>Claire</td>\n",
       "      <td>84</td>\n",
       "      <td>B</td>\n",
       "    </tr>\n",
       "    <tr>\n",
       "      <th>3</th>\n",
       "      <td>Dean</td>\n",
       "      <td>85</td>\n",
       "      <td>B</td>\n",
       "    </tr>\n",
       "    <tr>\n",
       "      <th>4</th>\n",
       "      <td>Ethan</td>\n",
       "      <td>97</td>\n",
       "      <td>A</td>\n",
       "    </tr>\n",
       "    <tr>\n",
       "      <th>5</th>\n",
       "      <td>Fowler</td>\n",
       "      <td>99</td>\n",
       "      <td>A</td>\n",
       "    </tr>\n",
       "    <tr>\n",
       "      <th>6</th>\n",
       "      <td>Gloria</td>\n",
       "      <td>96</td>\n",
       "      <td>A</td>\n",
       "    </tr>\n",
       "  </tbody>\n",
       "</table>\n",
       "</div>"
      ],
      "text/plain": [
       "     Name  Marks Grade\n",
       "0   Alice     95     A\n",
       "1     Bob     97     A\n",
       "2  Claire     84     B\n",
       "3    Dean     85     B\n",
       "4   Ethan     97     A\n",
       "5  Fowler     99     A\n",
       "6  Gloria     96     A"
      ]
     },
     "execution_count": 37,
     "metadata": {},
     "output_type": "execute_result"
    }
   ],
   "source": [
    "#defining a funciton for apply()\n",
    "def grade(x):\n",
    "    if x>90:\n",
    "        return 'A'\n",
    "    else:\n",
    "        return'B'\n",
    "    \n",
    "df_marks['Grade'] = df_marks['Marks'].apply(grade)\n",
    "print('Newly added column with the help of apply funciton:')\n",
    "df_marks"
   ]
  },
  {
   "cell_type": "markdown",
   "id": "cbae690e-ef99-4759-8a35-4e9a2ebe957b",
   "metadata": {},
   "source": []
  },
  {
   "cell_type": "markdown",
   "id": "91b2baa0-f3de-44c9-89d8-fd5d701b6910",
   "metadata": {},
   "source": [
    "Q6. Which of the following is mutable in nature Series, DataFrame, Panel?\n",
    "\n",
    "Ans. \n",
    "- Series : A series is immutable, data in a series cannot be manipulated.\n",
    "\n",
    "- DataFrame : A DataFrame is mutable. We can apply many data manipulation operations on a DataFrame such as merge(), join(), apply(), sort(), groupby(), concat(), etc\n",
    "\n",
    "- Panel : Panel is also mutable"
   ]
  },
  {
   "cell_type": "markdown",
   "id": "9084c7ad-30e5-4697-ba55-a992c109ed3c",
   "metadata": {},
   "source": []
  },
  {
   "cell_type": "markdown",
   "id": "86899259-9e3f-484d-9b36-1278a9d5eeec",
   "metadata": {},
   "source": [
    "Q7. Create a DataFrame using multiple Series. Explain with an example."
   ]
  },
  {
   "cell_type": "code",
   "execution_count": 4,
   "id": "0c41d4d5-b2c9-4dfd-910c-8aad0cfe9f57",
   "metadata": {},
   "outputs": [],
   "source": [
    "#Solution-7\n",
    "series_1 = pd.Series([1,2,3,4,5,6])\n",
    "series_2 = pd.Series(['Robert','Natasha','Shuri','Steve','Stephen','Wanda'])\n",
    "series_3 = pd.Series(['Ironman','Black widow','Black panther','Captain America','Dr Strange','Scarlett Witch'])\n"
   ]
  },
  {
   "cell_type": "code",
   "execution_count": 6,
   "id": "0e0ea39c-3b79-4938-9615-661384eef944",
   "metadata": {},
   "outputs": [
    {
     "name": "stdout",
     "output_type": "stream",
     "text": [
      "Series-1 :\n"
     ]
    },
    {
     "data": {
      "text/plain": [
       "0    1\n",
       "1    2\n",
       "2    3\n",
       "3    4\n",
       "4    5\n",
       "5    6\n",
       "dtype: int64"
      ]
     },
     "execution_count": 6,
     "metadata": {},
     "output_type": "execute_result"
    }
   ],
   "source": [
    "print('Series-1 :')\n",
    "series_1"
   ]
  },
  {
   "cell_type": "code",
   "execution_count": 7,
   "id": "6438f2f2-d04f-4a01-9090-fd8400a1c802",
   "metadata": {},
   "outputs": [
    {
     "name": "stdout",
     "output_type": "stream",
     "text": [
      "Series-2 :\n"
     ]
    },
    {
     "data": {
      "text/plain": [
       "0     Robert\n",
       "1    Natasha\n",
       "2      Shuri\n",
       "3      Steve\n",
       "4    Stephen\n",
       "5      Wanda\n",
       "dtype: object"
      ]
     },
     "execution_count": 7,
     "metadata": {},
     "output_type": "execute_result"
    }
   ],
   "source": [
    "print('Series-2 :')\n",
    "series_2"
   ]
  },
  {
   "cell_type": "code",
   "execution_count": 8,
   "id": "c337eb42-15cc-469b-89a3-8e0f1b747faf",
   "metadata": {},
   "outputs": [
    {
     "name": "stdout",
     "output_type": "stream",
     "text": [
      "Series-3 :\n"
     ]
    },
    {
     "data": {
      "text/plain": [
       "0            Ironman\n",
       "1        Black widow\n",
       "2      Black panther\n",
       "3    Captain America\n",
       "4         Dr Strange\n",
       "5     Scarlett Witch\n",
       "dtype: object"
      ]
     },
     "execution_count": 8,
     "metadata": {},
     "output_type": "execute_result"
    }
   ],
   "source": [
    "print('Series-3 :')\n",
    "series_3"
   ]
  },
  {
   "cell_type": "code",
   "execution_count": 10,
   "id": "8f2e4787-77c3-4162-a74c-56003ad161b7",
   "metadata": {},
   "outputs": [
    {
     "name": "stdout",
     "output_type": "stream",
     "text": [
      "Combined DataFrame from multiple series:\n"
     ]
    },
    {
     "data": {
      "text/html": [
       "<div>\n",
       "<style scoped>\n",
       "    .dataframe tbody tr th:only-of-type {\n",
       "        vertical-align: middle;\n",
       "    }\n",
       "\n",
       "    .dataframe tbody tr th {\n",
       "        vertical-align: top;\n",
       "    }\n",
       "\n",
       "    .dataframe thead th {\n",
       "        text-align: right;\n",
       "    }\n",
       "</style>\n",
       "<table border=\"1\" class=\"dataframe\">\n",
       "  <thead>\n",
       "    <tr style=\"text-align: right;\">\n",
       "      <th></th>\n",
       "      <th>id</th>\n",
       "      <th>Name</th>\n",
       "      <th>Role</th>\n",
       "    </tr>\n",
       "  </thead>\n",
       "  <tbody>\n",
       "    <tr>\n",
       "      <th>0</th>\n",
       "      <td>1</td>\n",
       "      <td>Robert</td>\n",
       "      <td>Ironman</td>\n",
       "    </tr>\n",
       "    <tr>\n",
       "      <th>1</th>\n",
       "      <td>2</td>\n",
       "      <td>Natasha</td>\n",
       "      <td>Black widow</td>\n",
       "    </tr>\n",
       "    <tr>\n",
       "      <th>2</th>\n",
       "      <td>3</td>\n",
       "      <td>Shuri</td>\n",
       "      <td>Black panther</td>\n",
       "    </tr>\n",
       "    <tr>\n",
       "      <th>3</th>\n",
       "      <td>4</td>\n",
       "      <td>Steve</td>\n",
       "      <td>Captain America</td>\n",
       "    </tr>\n",
       "    <tr>\n",
       "      <th>4</th>\n",
       "      <td>5</td>\n",
       "      <td>Stephen</td>\n",
       "      <td>Dr Strange</td>\n",
       "    </tr>\n",
       "    <tr>\n",
       "      <th>5</th>\n",
       "      <td>6</td>\n",
       "      <td>Wanda</td>\n",
       "      <td>Scarlett Witch</td>\n",
       "    </tr>\n",
       "  </tbody>\n",
       "</table>\n",
       "</div>"
      ],
      "text/plain": [
       "   id     Name             Role\n",
       "0   1   Robert          Ironman\n",
       "1   2  Natasha      Black widow\n",
       "2   3    Shuri    Black panther\n",
       "3   4    Steve  Captain America\n",
       "4   5  Stephen       Dr Strange\n",
       "5   6    Wanda   Scarlett Witch"
      ]
     },
     "execution_count": 10,
     "metadata": {},
     "output_type": "execute_result"
    }
   ],
   "source": [
    "df_comb = pd.DataFrame({'id': series_1, 'Name': series_2, 'Role': series_3})\n",
    "print(\"Combined DataFrame from multiple series:\")\n",
    "df_comb"
   ]
  },
  {
   "cell_type": "markdown",
   "id": "301c1cda-2201-4372-af6a-1a9568bbb741",
   "metadata": {},
   "source": []
  }
 ],
 "metadata": {
  "kernelspec": {
   "display_name": "Python 3 (ipykernel)",
   "language": "python",
   "name": "python3"
  },
  "language_info": {
   "codemirror_mode": {
    "name": "ipython",
    "version": 3
   },
   "file_extension": ".py",
   "mimetype": "text/x-python",
   "name": "python",
   "nbconvert_exporter": "python",
   "pygments_lexer": "ipython3",
   "version": "3.10.8"
  }
 },
 "nbformat": 4,
 "nbformat_minor": 5
}
