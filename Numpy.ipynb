{
 "cells": [
  {
   "cell_type": "markdown",
   "id": "7e4c01c8-6ee4-4165-8889-0e2adbc32ac1",
   "metadata": {},
   "source": [
    "# Numpy Assignment"
   ]
  },
  {
   "cell_type": "markdown",
   "id": "833715b1-6ede-4277-9376-116c3c3da57a",
   "metadata": {},
   "source": []
  },
  {
   "cell_type": "markdown",
   "id": "9c25ca81-231e-4e7a-906d-25c64f7b197b",
   "metadata": {},
   "source": [
    "Consider the below code to answer further questions:"
   ]
  },
  {
   "cell_type": "code",
   "execution_count": 1,
   "id": "0dd4eaa7-7ed6-4908-973e-67cd0e202d95",
   "metadata": {},
   "outputs": [],
   "source": [
    "import numpy as np\n",
    "list_ = [ '1' , '2' , '3' , '4' , '5' ]\n",
    "array_list = np.array(object = list_)"
   ]
  },
  {
   "cell_type": "markdown",
   "id": "da45822c-1bc7-47cc-a583-9a4c420e62e5",
   "metadata": {},
   "source": []
  },
  {
   "cell_type": "markdown",
   "id": "b8c19e0a-3a68-4fd9-873b-0e3622bfe75e",
   "metadata": {},
   "source": [
    "Q1. Is there any difference in the data type of variables list_ and array_list? If there is then write a code\n",
    "to print the data types of both the variables.\n",
    "\n",
    "Ans. Yes there is a difference in the data type of variables list_ and array_list. The datatype of variable list_ is **list**, which is a type of python data structure, but array_list is an **array** which is a data structure defined in the numpy library.\n",
    "\n",
    "The code below shows the difference and prints their datatypes :"
   ]
  },
  {
   "cell_type": "code",
   "execution_count": 3,
   "id": "59819260-d212-4aef-b690-1ffa90b4773f",
   "metadata": {},
   "outputs": [
    {
     "name": "stdout",
     "output_type": "stream",
     "text": [
      "The data type of variable **list_** is : <class 'list'>\n",
      "The data type of variable **array_list** is : <class 'numpy.ndarray'>\n"
     ]
    }
   ],
   "source": [
    "#Solution-1\n",
    "print(f'The data type of variable **list_** is : {type(list_)}')\n",
    "print(f'The data type of variable **array_list** is : {type(array_list)}')"
   ]
  },
  {
   "cell_type": "markdown",
   "id": "06c6ddde-deb3-4593-8262-74dc760fd5ed",
   "metadata": {},
   "source": []
  },
  {
   "cell_type": "markdown",
   "id": "55e791bc-2aaa-4f8c-9e90-8440d2a5e424",
   "metadata": {},
   "source": [
    "Q2. Write a code to print the data type of each and every element of both the variables list_ and\n",
    "array_list."
   ]
  },
  {
   "cell_type": "code",
   "execution_count": 26,
   "id": "4ebab04a-69be-4531-a2bb-5846adafdb3f",
   "metadata": {},
   "outputs": [
    {
     "name": "stdout",
     "output_type": "stream",
     "text": [
      "Data types of all elements in list_ :\n",
      "\n",
      "\tData type of element 1 : <class 'str'>\n",
      "\tData type of element 2 : <class 'str'>\n",
      "\tData type of element 3 : <class 'str'>\n",
      "\tData type of element 4 : <class 'str'>\n",
      "\tData type of element 5 : <class 'str'>\n"
     ]
    }
   ],
   "source": [
    "print('Data types of all elements in list_ :\\n')\n",
    "for i in list_:\n",
    "    print(f'\\tData type of element {i} : {type(i)}')"
   ]
  },
  {
   "cell_type": "code",
   "execution_count": 27,
   "id": "a4b97ea9-ee67-44f7-bc39-74a851d986e0",
   "metadata": {},
   "outputs": [
    {
     "name": "stdout",
     "output_type": "stream",
     "text": [
      "Data types of all elements in array_list :\n",
      "\n",
      "\tData type of element 1 : <class 'numpy.dtype[str_]'>\n",
      "\tData type of element 2 : <class 'numpy.dtype[str_]'>\n",
      "\tData type of element 3 : <class 'numpy.dtype[str_]'>\n",
      "\tData type of element 4 : <class 'numpy.dtype[str_]'>\n",
      "\tData type of element 5 : <class 'numpy.dtype[str_]'>\n"
     ]
    }
   ],
   "source": [
    "print('Data types of all elements in array_list :\\n')\n",
    "for i in array_list:\n",
    "    print(f'\\tData type of element {i} : {type(array_list.dtype)}')"
   ]
  },
  {
   "cell_type": "markdown",
   "id": "cd2fefee-bafa-4643-882e-98e4ffde6320",
   "metadata": {},
   "source": []
  },
  {
   "cell_type": "markdown",
   "id": "20c9b548-1d60-4201-88aa-7acaac720812",
   "metadata": {},
   "source": [
    "Q3. Considering the following changes in the variable, array_list:"
   ]
  },
  {
   "cell_type": "code",
   "execution_count": 28,
   "id": "24eb3f39-26e8-4a51-bb35-f9a0b30fbf57",
   "metadata": {},
   "outputs": [],
   "source": [
    "array_list = np.array(object = list_, dtype = int)"
   ]
  },
  {
   "cell_type": "markdown",
   "id": "716500e5-b3ce-400c-9ad4-20f62237e1f9",
   "metadata": {},
   "source": [
    "Will there be any difference in the data type of the elements present in both the variables, list_ and\n",
    "arra_list? If so then print the data types of each and every element present in both the variables, list_\n",
    "and array_list.\n",
    "\n",
    "Ans. Yes there will be difference. \n",
    "\n",
    "The datatypes of elements of the variable list_ is string because we have use quotes while defining the list_.\n",
    "\n",
    "But the datatypes of elements of array_list wil now be integer as we have mentioned the attribute, dtype = int, which typecasts and changes the datatypes.\n",
    "\n",
    "The code below prints data-types of all elements:"
   ]
  },
  {
   "cell_type": "code",
   "execution_count": 29,
   "id": "f74c07c1-6c6e-4c98-be29-9096e1ca9f21",
   "metadata": {},
   "outputs": [
    {
     "name": "stdout",
     "output_type": "stream",
     "text": [
      "Data types of all elements in list_ :\n",
      "\n",
      "\tData type of element 1 : <class 'str'>\n",
      "\tData type of element 2 : <class 'str'>\n",
      "\tData type of element 3 : <class 'str'>\n",
      "\tData type of element 4 : <class 'str'>\n",
      "\tData type of element 5 : <class 'str'>\n"
     ]
    }
   ],
   "source": [
    "print('Data types of all elements in list_ :\\n')\n",
    "for i in list_:\n",
    "    print(f'\\tData type of element {i} : {type(i)}')"
   ]
  },
  {
   "cell_type": "code",
   "execution_count": 30,
   "id": "4ce9cab2-2fc0-4e0a-9f34-7661adc95bac",
   "metadata": {},
   "outputs": [
    {
     "name": "stdout",
     "output_type": "stream",
     "text": [
      "Data types of all elements in array_list :\n",
      "\n",
      "\tData type of element 1 : <class 'numpy.dtype[int64]'>\n",
      "\tData type of element 2 : <class 'numpy.dtype[int64]'>\n",
      "\tData type of element 3 : <class 'numpy.dtype[int64]'>\n",
      "\tData type of element 4 : <class 'numpy.dtype[int64]'>\n",
      "\tData type of element 5 : <class 'numpy.dtype[int64]'>\n"
     ]
    }
   ],
   "source": [
    "print('Data types of all elements in array_list :\\n')\n",
    "for i in array_list:\n",
    "    print(f'\\tData type of element {i} : {type(array_list.dtype)}')"
   ]
  },
  {
   "cell_type": "markdown",
   "id": "87ef4e2f-c1d6-4e5a-9675-23005c88555c",
   "metadata": {},
   "source": []
  },
  {
   "cell_type": "markdown",
   "id": "94c58471-b355-4d05-832e-eba9af630af9",
   "metadata": {},
   "source": [
    "Consider the below code to answer further questions:"
   ]
  },
  {
   "cell_type": "code",
   "execution_count": 9,
   "id": "84d61b9b-e314-44b5-84b5-90039ea30106",
   "metadata": {},
   "outputs": [],
   "source": [
    "import numpy as np\n",
    "num_list = [ [ 1 , 2 , 3 ] , [ 4 , 5 , 6 ] ]\n",
    "num_array = np.array(object = num_list)"
   ]
  },
  {
   "cell_type": "markdown",
   "id": "e1c905e2-b143-4211-892b-fb7d91f88759",
   "metadata": {},
   "source": [
    "Q4. Write a code to find the following characteristics of variable, num_array:\n",
    "\n",
    "- shape\n",
    "- size\n",
    "\n",
    "Ans. The shape and size of required array is obtained and printed below:"
   ]
  },
  {
   "cell_type": "code",
   "execution_count": 15,
   "id": "634ccbf0-6c90-4630-b3ff-d57d24b493f6",
   "metadata": {},
   "outputs": [
    {
     "name": "stdout",
     "output_type": "stream",
     "text": [
      "Shape of num_array is : (2, 3)\n",
      "Size of num_array is : 6\n"
     ]
    }
   ],
   "source": [
    "#Solution-4\n",
    "print(f'Shape of num_array is : {num_array.shape}')\n",
    "print(f'Size of num_array is : {num_array.size}')"
   ]
  },
  {
   "cell_type": "markdown",
   "id": "a337a768-9bb5-4614-8abd-4244a3c0f5fd",
   "metadata": {},
   "source": []
  },
  {
   "cell_type": "markdown",
   "id": "4673babc-12f7-421c-8047-ef5a8da30f94",
   "metadata": {},
   "source": [
    "Q5. Write a code to create numpy array of 3*3 matrix containing zeros only, using a numpy array\n",
    "creation function.\n",
    "\n",
    "Ans. The required array is created and printed below:"
   ]
  },
  {
   "cell_type": "code",
   "execution_count": 17,
   "id": "3a4994ea-0b08-4043-a4af-534676dbf2cf",
   "metadata": {},
   "outputs": [
    {
     "data": {
      "text/plain": [
       "array([[0., 0., 0.],\n",
       "       [0., 0., 0.],\n",
       "       [0., 0., 0.]])"
      ]
     },
     "execution_count": 17,
     "metadata": {},
     "output_type": "execute_result"
    }
   ],
   "source": [
    "#Solution-5\n",
    "arr = np.zeros((3,3))\n",
    "arr"
   ]
  },
  {
   "cell_type": "markdown",
   "id": "423ee7be-eac2-4faf-97cc-1362e2229110",
   "metadata": {},
   "source": []
  },
  {
   "cell_type": "markdown",
   "id": "6ac93fc2-8973-47c6-9f9b-e79eb9b15d78",
   "metadata": {},
   "source": [
    "Q6. Create an identity matrix of shape (5,5) using numpy functions?\n",
    "\n",
    "Ans. The required array is created and printed below:"
   ]
  },
  {
   "cell_type": "code",
   "execution_count": 18,
   "id": "92e2e5b6-28db-4446-b78a-374fc1f89ed0",
   "metadata": {},
   "outputs": [
    {
     "data": {
      "text/plain": [
       "array([[1., 0., 0., 0., 0.],\n",
       "       [0., 1., 0., 0., 0.],\n",
       "       [0., 0., 1., 0., 0.],\n",
       "       [0., 0., 0., 1., 0.],\n",
       "       [0., 0., 0., 0., 1.]])"
      ]
     },
     "execution_count": 18,
     "metadata": {},
     "output_type": "execute_result"
    }
   ],
   "source": [
    "#Solution-6\n",
    "arr_id = np.eye(5)\n",
    "arr_id"
   ]
  },
  {
   "cell_type": "markdown",
   "id": "16a27f1f-3e14-4443-8af3-bdd6f6596796",
   "metadata": {},
   "source": []
  }
 ],
 "metadata": {
  "kernelspec": {
   "display_name": "Python 3 (ipykernel)",
   "language": "python",
   "name": "python3"
  },
  "language_info": {
   "codemirror_mode": {
    "name": "ipython",
    "version": 3
   },
   "file_extension": ".py",
   "mimetype": "text/x-python",
   "name": "python",
   "nbconvert_exporter": "python",
   "pygments_lexer": "ipython3",
   "version": "3.10.8"
  }
 },
 "nbformat": 4,
 "nbformat_minor": 5
}
